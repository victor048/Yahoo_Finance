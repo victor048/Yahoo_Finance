{
  "nbformat": 4,
  "nbformat_minor": 0,
  "metadata": {
    "colab": {
      "name": "Finance_Ambev.ipynb",
      "provenance": [],
      "collapsed_sections": [],
      "authorship_tag": "ABX9TyNZNRsCobZvHA4x22Ip3CjT",
      "include_colab_link": true
    },
    "kernelspec": {
      "name": "python3",
      "display_name": "Python 3"
    },
    "language_info": {
      "name": "python"
    }
  },
  "cells": [
    {
      "cell_type": "markdown",
      "metadata": {
        "id": "view-in-github",
        "colab_type": "text"
      },
      "source": [
        "<a href=\"https://colab.research.google.com/github/victor048/Yahoo_Finance/blob/main/Finance_Ambev.ipynb\" target=\"_parent\"><img src=\"https://colab.research.google.com/assets/colab-badge.svg\" alt=\"Open In Colab\"/></a>"
      ]
    },
    {
      "cell_type": "code",
      "metadata": {
        "id": "WRx9OvCpSvYG"
      },
      "source": [
        "import pandas as pd\n",
        "import numpy as np\n",
        "import matplotlib.pyplot as plt\n",
        "import seaborn as sns\n",
        "from math import *\n",
        "\n",
        "from sklearn.linear_model import LogisticRegression\n",
        "from sklearn import model_selection, metrics, linear_model, preprocessing, tree\n",
        "\n",
        "import time, datetime, random"
      ],
      "execution_count": null,
      "outputs": []
    },
    {
      "cell_type": "code",
      "metadata": {
        "id": "aUOYLc74S8Q-"
      },
      "source": [
        "data = pd.read_csv('/content/ABEV3.SA.csv', index_col='Date')"
      ],
      "execution_count": null,
      "outputs": []
    },
    {
      "cell_type": "code",
      "metadata": {
        "colab": {
          "base_uri": "https://localhost:8080/",
          "height": 225
        },
        "id": "6BJPv_FxTMLS",
        "outputId": "52b81fb7-c8d2-4913-a61f-538ff5b89283"
      },
      "source": [
        "data.head()"
      ],
      "execution_count": null,
      "outputs": [
        {
          "output_type": "execute_result",
          "data": {
            "text/html": [
              "<div>\n",
              "<style scoped>\n",
              "    .dataframe tbody tr th:only-of-type {\n",
              "        vertical-align: middle;\n",
              "    }\n",
              "\n",
              "    .dataframe tbody tr th {\n",
              "        vertical-align: top;\n",
              "    }\n",
              "\n",
              "    .dataframe thead th {\n",
              "        text-align: right;\n",
              "    }\n",
              "</style>\n",
              "<table border=\"1\" class=\"dataframe\">\n",
              "  <thead>\n",
              "    <tr style=\"text-align: right;\">\n",
              "      <th></th>\n",
              "      <th>Open</th>\n",
              "      <th>High</th>\n",
              "      <th>Low</th>\n",
              "      <th>Close</th>\n",
              "      <th>Adj Close</th>\n",
              "      <th>Volume</th>\n",
              "    </tr>\n",
              "    <tr>\n",
              "      <th>Date</th>\n",
              "      <th></th>\n",
              "      <th></th>\n",
              "      <th></th>\n",
              "      <th></th>\n",
              "      <th></th>\n",
              "      <th></th>\n",
              "    </tr>\n",
              "  </thead>\n",
              "  <tbody>\n",
              "    <tr>\n",
              "      <th>2020-04-20</th>\n",
              "      <td>11.40</td>\n",
              "      <td>11.85</td>\n",
              "      <td>11.29</td>\n",
              "      <td>11.61</td>\n",
              "      <td>11.257279</td>\n",
              "      <td>22065800.0</td>\n",
              "    </tr>\n",
              "    <tr>\n",
              "      <th>2020-04-22</th>\n",
              "      <td>11.65</td>\n",
              "      <td>11.79</td>\n",
              "      <td>11.51</td>\n",
              "      <td>11.62</td>\n",
              "      <td>11.266975</td>\n",
              "      <td>22788300.0</td>\n",
              "    </tr>\n",
              "    <tr>\n",
              "      <th>2020-04-23</th>\n",
              "      <td>11.73</td>\n",
              "      <td>11.84</td>\n",
              "      <td>11.44</td>\n",
              "      <td>11.55</td>\n",
              "      <td>11.199101</td>\n",
              "      <td>23608700.0</td>\n",
              "    </tr>\n",
              "    <tr>\n",
              "      <th>2020-04-24</th>\n",
              "      <td>11.45</td>\n",
              "      <td>11.55</td>\n",
              "      <td>10.68</td>\n",
              "      <td>11.11</td>\n",
              "      <td>10.772470</td>\n",
              "      <td>50923200.0</td>\n",
              "    </tr>\n",
              "    <tr>\n",
              "      <th>2020-04-27</th>\n",
              "      <td>11.35</td>\n",
              "      <td>11.84</td>\n",
              "      <td>11.26</td>\n",
              "      <td>11.61</td>\n",
              "      <td>11.257279</td>\n",
              "      <td>26166300.0</td>\n",
              "    </tr>\n",
              "  </tbody>\n",
              "</table>\n",
              "</div>"
            ],
            "text/plain": [
              "             Open   High    Low  Close  Adj Close      Volume\n",
              "Date                                                         \n",
              "2020-04-20  11.40  11.85  11.29  11.61  11.257279  22065800.0\n",
              "2020-04-22  11.65  11.79  11.51  11.62  11.266975  22788300.0\n",
              "2020-04-23  11.73  11.84  11.44  11.55  11.199101  23608700.0\n",
              "2020-04-24  11.45  11.55  10.68  11.11  10.772470  50923200.0\n",
              "2020-04-27  11.35  11.84  11.26  11.61  11.257279  26166300.0"
            ]
          },
          "metadata": {
            "tags": []
          },
          "execution_count": 61
        }
      ]
    },
    {
      "cell_type": "code",
      "metadata": {
        "colab": {
          "base_uri": "https://localhost:8080/"
        },
        "id": "P3cKED_CTPJO",
        "outputId": "98d23b4e-a3b2-4c1f-85fe-dd3df1024df5"
      },
      "source": [
        "data.info()"
      ],
      "execution_count": null,
      "outputs": [
        {
          "output_type": "stream",
          "text": [
            "<class 'pandas.core.frame.DataFrame'>\n",
            "Index: 245 entries, 2020-04-20 to 2021-04-16\n",
            "Data columns (total 6 columns):\n",
            " #   Column     Non-Null Count  Dtype  \n",
            "---  ------     --------------  -----  \n",
            " 0   Open       244 non-null    float64\n",
            " 1   High       244 non-null    float64\n",
            " 2   Low        244 non-null    float64\n",
            " 3   Close      244 non-null    float64\n",
            " 4   Adj Close  244 non-null    float64\n",
            " 5   Volume     244 non-null    float64\n",
            "dtypes: float64(6)\n",
            "memory usage: 13.4+ KB\n"
          ],
          "name": "stdout"
        }
      ]
    },
    {
      "cell_type": "code",
      "metadata": {
        "colab": {
          "base_uri": "https://localhost:8080/",
          "height": 284
        },
        "id": "MvslOA5jTkra",
        "outputId": "8399e91e-a36a-4625-deac-cefb457780a5"
      },
      "source": [
        "data.describe()"
      ],
      "execution_count": null,
      "outputs": [
        {
          "output_type": "execute_result",
          "data": {
            "text/html": [
              "<div>\n",
              "<style scoped>\n",
              "    .dataframe tbody tr th:only-of-type {\n",
              "        vertical-align: middle;\n",
              "    }\n",
              "\n",
              "    .dataframe tbody tr th {\n",
              "        vertical-align: top;\n",
              "    }\n",
              "\n",
              "    .dataframe thead th {\n",
              "        text-align: right;\n",
              "    }\n",
              "</style>\n",
              "<table border=\"1\" class=\"dataframe\">\n",
              "  <thead>\n",
              "    <tr style=\"text-align: right;\">\n",
              "      <th></th>\n",
              "      <th>Open</th>\n",
              "      <th>High</th>\n",
              "      <th>Low</th>\n",
              "      <th>Close</th>\n",
              "      <th>Adj Close</th>\n",
              "      <th>Volume</th>\n",
              "    </tr>\n",
              "  </thead>\n",
              "  <tbody>\n",
              "    <tr>\n",
              "      <th>count</th>\n",
              "      <td>244.000000</td>\n",
              "      <td>244.000000</td>\n",
              "      <td>244.000000</td>\n",
              "      <td>244.000000</td>\n",
              "      <td>244.000000</td>\n",
              "      <td>2.440000e+02</td>\n",
              "    </tr>\n",
              "    <tr>\n",
              "      <th>mean</th>\n",
              "      <td>14.049918</td>\n",
              "      <td>14.298770</td>\n",
              "      <td>13.832541</td>\n",
              "      <td>14.044631</td>\n",
              "      <td>13.760466</td>\n",
              "      <td>2.896272e+07</td>\n",
              "    </tr>\n",
              "    <tr>\n",
              "      <th>std</th>\n",
              "      <td>1.308440</td>\n",
              "      <td>1.315711</td>\n",
              "      <td>1.310709</td>\n",
              "      <td>1.323389</td>\n",
              "      <td>1.433218</td>\n",
              "      <td>1.496925e+07</td>\n",
              "    </tr>\n",
              "    <tr>\n",
              "      <th>min</th>\n",
              "      <td>11.140000</td>\n",
              "      <td>11.550000</td>\n",
              "      <td>10.680000</td>\n",
              "      <td>11.110000</td>\n",
              "      <td>10.772470</td>\n",
              "      <td>7.029000e+06</td>\n",
              "    </tr>\n",
              "    <tr>\n",
              "      <th>25%</th>\n",
              "      <td>12.960000</td>\n",
              "      <td>13.192500</td>\n",
              "      <td>12.700000</td>\n",
              "      <td>12.875000</td>\n",
              "      <td>12.483847</td>\n",
              "      <td>1.974972e+07</td>\n",
              "    </tr>\n",
              "    <tr>\n",
              "      <th>50%</th>\n",
              "      <td>14.195000</td>\n",
              "      <td>14.440000</td>\n",
              "      <td>13.980000</td>\n",
              "      <td>14.165000</td>\n",
              "      <td>13.769296</td>\n",
              "      <td>2.555850e+07</td>\n",
              "    </tr>\n",
              "    <tr>\n",
              "      <th>75%</th>\n",
              "      <td>15.192500</td>\n",
              "      <td>15.402500</td>\n",
              "      <td>14.955000</td>\n",
              "      <td>15.150000</td>\n",
              "      <td>15.029324</td>\n",
              "      <td>3.473880e+07</td>\n",
              "    </tr>\n",
              "    <tr>\n",
              "      <th>max</th>\n",
              "      <td>16.500000</td>\n",
              "      <td>16.910000</td>\n",
              "      <td>16.170000</td>\n",
              "      <td>16.799999</td>\n",
              "      <td>16.720312</td>\n",
              "      <td>1.440625e+08</td>\n",
              "    </tr>\n",
              "  </tbody>\n",
              "</table>\n",
              "</div>"
            ],
            "text/plain": [
              "             Open        High         Low       Close   Adj Close        Volume\n",
              "count  244.000000  244.000000  244.000000  244.000000  244.000000  2.440000e+02\n",
              "mean    14.049918   14.298770   13.832541   14.044631   13.760466  2.896272e+07\n",
              "std      1.308440    1.315711    1.310709    1.323389    1.433218  1.496925e+07\n",
              "min     11.140000   11.550000   10.680000   11.110000   10.772470  7.029000e+06\n",
              "25%     12.960000   13.192500   12.700000   12.875000   12.483847  1.974972e+07\n",
              "50%     14.195000   14.440000   13.980000   14.165000   13.769296  2.555850e+07\n",
              "75%     15.192500   15.402500   14.955000   15.150000   15.029324  3.473880e+07\n",
              "max     16.500000   16.910000   16.170000   16.799999   16.720312  1.440625e+08"
            ]
          },
          "metadata": {
            "tags": []
          },
          "execution_count": 63
        }
      ]
    },
    {
      "cell_type": "code",
      "metadata": {
        "id": "H4B1xQmRT-Xl",
        "colab": {
          "base_uri": "https://localhost:8080/",
          "height": 282
        },
        "outputId": "5fe8df75-7ded-497a-9574-7bd8e8823e83"
      },
      "source": [
        "data['Adj Close'].plot.hist()"
      ],
      "execution_count": null,
      "outputs": [
        {
          "output_type": "execute_result",
          "data": {
            "text/plain": [
              "<matplotlib.axes._subplots.AxesSubplot at 0x7f294ad8fbd0>"
            ]
          },
          "metadata": {
            "tags": []
          },
          "execution_count": 64
        },
        {
          "output_type": "display_data",
          "data": {
            "image/png": "[encoded data removed]",
            "text/plain": [
              "<Figure size 432x288 with 1 Axes>"
            ]
          },
          "metadata": {
            "tags": [],
            "needs_background": "light"
          }
        }
      ]
    },
    {
      "cell_type": "code",
      "metadata": {
        "id": "vwBwfjodhzw-"
      },
      "source": [
        "data.rename(columns={'Adj Close':'Adj_Close'}, inplace= True)"
      ],
      "execution_count": null,
      "outputs": []
    },
    {
      "cell_type": "code",
      "metadata": {
        "colab": {
          "base_uri": "https://localhost:8080/",
          "height": 225
        },
        "id": "WVVQIQTWiSBV",
        "outputId": "3b2c74e6-0428-4017-bfbf-38157d9a1c6a"
      },
      "source": [
        "data.head()"
      ],
      "execution_count": null,
      "outputs": [
        {
          "output_type": "execute_result",
          "data": {
            "text/html": [
              "<div>\n",
              "<style scoped>\n",
              "    .dataframe tbody tr th:only-of-type {\n",
              "        vertical-align: middle;\n",
              "    }\n",
              "\n",
              "    .dataframe tbody tr th {\n",
              "        vertical-align: top;\n",
              "    }\n",
              "\n",
              "    .dataframe thead th {\n",
              "        text-align: right;\n",
              "    }\n",
              "</style>\n",
              "<table border=\"1\" class=\"dataframe\">\n",
              "  <thead>\n",
              "    <tr style=\"text-align: right;\">\n",
              "      <th></th>\n",
              "      <th>Open</th>\n",
              "      <th>High</th>\n",
              "      <th>Low</th>\n",
              "      <th>Close</th>\n",
              "      <th>Adj_Close</th>\n",
              "      <th>Volume</th>\n",
              "    </tr>\n",
              "    <tr>\n",
              "      <th>Date</th>\n",
              "      <th></th>\n",
              "      <th></th>\n",
              "      <th></th>\n",
              "      <th></th>\n",
              "      <th></th>\n",
              "      <th></th>\n",
              "    </tr>\n",
              "  </thead>\n",
              "  <tbody>\n",
              "    <tr>\n",
              "      <th>2020-04-20</th>\n",
              "      <td>11.40</td>\n",
              "      <td>11.85</td>\n",
              "      <td>11.29</td>\n",
              "      <td>11.61</td>\n",
              "      <td>11.257279</td>\n",
              "      <td>22065800.0</td>\n",
              "    </tr>\n",
              "    <tr>\n",
              "      <th>2020-04-22</th>\n",
              "      <td>11.65</td>\n",
              "      <td>11.79</td>\n",
              "      <td>11.51</td>\n",
              "      <td>11.62</td>\n",
              "      <td>11.266975</td>\n",
              "      <td>22788300.0</td>\n",
              "    </tr>\n",
              "    <tr>\n",
              "      <th>2020-04-23</th>\n",
              "      <td>11.73</td>\n",
              "      <td>11.84</td>\n",
              "      <td>11.44</td>\n",
              "      <td>11.55</td>\n",
              "      <td>11.199101</td>\n",
              "      <td>23608700.0</td>\n",
              "    </tr>\n",
              "    <tr>\n",
              "      <th>2020-04-24</th>\n",
              "      <td>11.45</td>\n",
              "      <td>11.55</td>\n",
              "      <td>10.68</td>\n",
              "      <td>11.11</td>\n",
              "      <td>10.772470</td>\n",
              "      <td>50923200.0</td>\n",
              "    </tr>\n",
              "    <tr>\n",
              "      <th>2020-04-27</th>\n",
              "      <td>11.35</td>\n",
              "      <td>11.84</td>\n",
              "      <td>11.26</td>\n",
              "      <td>11.61</td>\n",
              "      <td>11.257279</td>\n",
              "      <td>26166300.0</td>\n",
              "    </tr>\n",
              "  </tbody>\n",
              "</table>\n",
              "</div>"
            ],
            "text/plain": [
              "             Open   High    Low  Close  Adj_Close      Volume\n",
              "Date                                                         \n",
              "2020-04-20  11.40  11.85  11.29  11.61  11.257279  22065800.0\n",
              "2020-04-22  11.65  11.79  11.51  11.62  11.266975  22788300.0\n",
              "2020-04-23  11.73  11.84  11.44  11.55  11.199101  23608700.0\n",
              "2020-04-24  11.45  11.55  10.68  11.11  10.772470  50923200.0\n",
              "2020-04-27  11.35  11.84  11.26  11.61  11.257279  26166300.0"
            ]
          },
          "metadata": {
            "tags": []
          },
          "execution_count": 66
        }
      ]
    },
    {
      "cell_type": "code",
      "metadata": {
        "colab": {
          "base_uri": "https://localhost:8080/"
        },
        "id": "QFX3kCBKiYMU",
        "outputId": "a0620c60-1c64-4c51-d547-af45bc978842"
      },
      "source": [
        "data.isnull().sum()"
      ],
      "execution_count": null,
      "outputs": [
        {
          "output_type": "execute_result",
          "data": {
            "text/plain": [
              "Open         1\n",
              "High         1\n",
              "Low          1\n",
              "Close        1\n",
              "Adj_Close    1\n",
              "Volume       1\n",
              "dtype: int64"
            ]
          },
          "metadata": {
            "tags": []
          },
          "execution_count": 67
        }
      ]
    },
    {
      "cell_type": "code",
      "metadata": {
        "colab": {
          "base_uri": "https://localhost:8080/",
          "height": 431
        },
        "id": "ij1_EQ51KTtI",
        "outputId": "dbce50e0-7593-4f92-85d4-80ec2bd05eaf"
      },
      "source": [
        "# removendo todos nulos\n",
        "data.dropna(how='all')"
      ],
      "execution_count": null,
      "outputs": [
        {
          "output_type": "execute_result",
          "data": {
            "text/html": [
              "<div>\n",
              "<style scoped>\n",
              "    .dataframe tbody tr th:only-of-type {\n",
              "        vertical-align: middle;\n",
              "    }\n",
              "\n",
              "    .dataframe tbody tr th {\n",
              "        vertical-align: top;\n",
              "    }\n",
              "\n",
              "    .dataframe thead th {\n",
              "        text-align: right;\n",
              "    }\n",
              "</style>\n",
              "<table border=\"1\" class=\"dataframe\">\n",
              "  <thead>\n",
              "    <tr style=\"text-align: right;\">\n",
              "      <th></th>\n",
              "      <th>Open</th>\n",
              "      <th>High</th>\n",
              "      <th>Low</th>\n",
              "      <th>Close</th>\n",
              "      <th>Adj_Close</th>\n",
              "      <th>Volume</th>\n",
              "      <th>Return</th>\n",
              "      <th>Buy</th>\n",
              "    </tr>\n",
              "    <tr>\n",
              "      <th>Date</th>\n",
              "      <th></th>\n",
              "      <th></th>\n",
              "      <th></th>\n",
              "      <th></th>\n",
              "      <th></th>\n",
              "      <th></th>\n",
              "      <th></th>\n",
              "      <th></th>\n",
              "    </tr>\n",
              "  </thead>\n",
              "  <tbody>\n",
              "    <tr>\n",
              "      <th>2020-04-20</th>\n",
              "      <td>11.40</td>\n",
              "      <td>11.850000</td>\n",
              "      <td>11.29</td>\n",
              "      <td>11.61</td>\n",
              "      <td>11.257279</td>\n",
              "      <td>22065800.0</td>\n",
              "      <td>0.001649</td>\n",
              "      <td>1.0</td>\n",
              "    </tr>\n",
              "    <tr>\n",
              "      <th>2020-04-22</th>\n",
              "      <td>11.65</td>\n",
              "      <td>11.790000</td>\n",
              "      <td>11.51</td>\n",
              "      <td>11.62</td>\n",
              "      <td>11.266975</td>\n",
              "      <td>22788300.0</td>\n",
              "      <td>0.000861</td>\n",
              "      <td>1.0</td>\n",
              "    </tr>\n",
              "    <tr>\n",
              "      <th>2020-04-23</th>\n",
              "      <td>11.73</td>\n",
              "      <td>11.840000</td>\n",
              "      <td>11.44</td>\n",
              "      <td>11.55</td>\n",
              "      <td>11.199101</td>\n",
              "      <td>23608700.0</td>\n",
              "      <td>-0.006024</td>\n",
              "      <td>1.0</td>\n",
              "    </tr>\n",
              "    <tr>\n",
              "      <th>2020-04-24</th>\n",
              "      <td>11.45</td>\n",
              "      <td>11.550000</td>\n",
              "      <td>10.68</td>\n",
              "      <td>11.11</td>\n",
              "      <td>10.772470</td>\n",
              "      <td>50923200.0</td>\n",
              "      <td>-0.038095</td>\n",
              "      <td>1.0</td>\n",
              "    </tr>\n",
              "    <tr>\n",
              "      <th>2020-04-27</th>\n",
              "      <td>11.35</td>\n",
              "      <td>11.840000</td>\n",
              "      <td>11.26</td>\n",
              "      <td>11.61</td>\n",
              "      <td>11.257279</td>\n",
              "      <td>26166300.0</td>\n",
              "      <td>0.045004</td>\n",
              "      <td>1.0</td>\n",
              "    </tr>\n",
              "    <tr>\n",
              "      <th>...</th>\n",
              "      <td>...</td>\n",
              "      <td>...</td>\n",
              "      <td>...</td>\n",
              "      <td>...</td>\n",
              "      <td>...</td>\n",
              "      <td>...</td>\n",
              "      <td>...</td>\n",
              "      <td>...</td>\n",
              "    </tr>\n",
              "    <tr>\n",
              "      <th>2021-04-12</th>\n",
              "      <td>15.50</td>\n",
              "      <td>15.600000</td>\n",
              "      <td>15.36</td>\n",
              "      <td>15.51</td>\n",
              "      <td>15.510000</td>\n",
              "      <td>11987600.0</td>\n",
              "      <td>0.009766</td>\n",
              "      <td>0.0</td>\n",
              "    </tr>\n",
              "    <tr>\n",
              "      <th>2021-04-13</th>\n",
              "      <td>15.50</td>\n",
              "      <td>15.740000</td>\n",
              "      <td>15.37</td>\n",
              "      <td>15.63</td>\n",
              "      <td>15.630000</td>\n",
              "      <td>19448300.0</td>\n",
              "      <td>0.007737</td>\n",
              "      <td>0.0</td>\n",
              "    </tr>\n",
              "    <tr>\n",
              "      <th>2021-04-14</th>\n",
              "      <td>15.64</td>\n",
              "      <td>15.900000</td>\n",
              "      <td>15.62</td>\n",
              "      <td>15.81</td>\n",
              "      <td>15.810000</td>\n",
              "      <td>21466700.0</td>\n",
              "      <td>0.011516</td>\n",
              "      <td>0.0</td>\n",
              "    </tr>\n",
              "    <tr>\n",
              "      <th>2021-04-15</th>\n",
              "      <td>15.79</td>\n",
              "      <td>16.030001</td>\n",
              "      <td>15.72</td>\n",
              "      <td>15.87</td>\n",
              "      <td>15.870000</td>\n",
              "      <td>17705700.0</td>\n",
              "      <td>0.003795</td>\n",
              "      <td>0.0</td>\n",
              "    </tr>\n",
              "    <tr>\n",
              "      <th>2021-04-16</th>\n",
              "      <td>15.79</td>\n",
              "      <td>15.960000</td>\n",
              "      <td>15.72</td>\n",
              "      <td>15.80</td>\n",
              "      <td>15.800000</td>\n",
              "      <td>13563400.0</td>\n",
              "      <td>-0.004411</td>\n",
              "      <td>0.0</td>\n",
              "    </tr>\n",
              "  </tbody>\n",
              "</table>\n",
              "<p>244 rows × 8 columns</p>\n",
              "</div>"
            ],
            "text/plain": [
              "             Open       High    Low  ...      Volume    Return  Buy\n",
              "Date                                 ...                           \n",
              "2020-04-20  11.40  11.850000  11.29  ...  22065800.0  0.001649  1.0\n",
              "2020-04-22  11.65  11.790000  11.51  ...  22788300.0  0.000861  1.0\n",
              "2020-04-23  11.73  11.840000  11.44  ...  23608700.0 -0.006024  1.0\n",
              "2020-04-24  11.45  11.550000  10.68  ...  50923200.0 -0.038095  1.0\n",
              "2020-04-27  11.35  11.840000  11.26  ...  26166300.0  0.045004  1.0\n",
              "...           ...        ...    ...  ...         ...       ...  ...\n",
              "2021-04-12  15.50  15.600000  15.36  ...  11987600.0  0.009766  0.0\n",
              "2021-04-13  15.50  15.740000  15.37  ...  19448300.0  0.007737  0.0\n",
              "2021-04-14  15.64  15.900000  15.62  ...  21466700.0  0.011516  0.0\n",
              "2021-04-15  15.79  16.030001  15.72  ...  17705700.0  0.003795  0.0\n",
              "2021-04-16  15.79  15.960000  15.72  ...  13563400.0 -0.004411  0.0\n",
              "\n",
              "[244 rows x 8 columns]"
            ]
          },
          "metadata": {
            "tags": []
          },
          "execution_count": 165
        }
      ]
    },
    {
      "cell_type": "code",
      "metadata": {
        "colab": {
          "base_uri": "https://localhost:8080/"
        },
        "id": "rE9oD2LgKk4n",
        "outputId": "7df9bc24-6aa0-4173-b19c-33bb95600609"
      },
      "source": [
        "data.dropna(inplace=True)\n",
        "data.isnull().sum()"
      ],
      "execution_count": null,
      "outputs": [
        {
          "output_type": "execute_result",
          "data": {
            "text/plain": [
              "Open         0\n",
              "High         0\n",
              "Low          0\n",
              "Close        0\n",
              "Adj_Close    0\n",
              "Volume       0\n",
              "Return       0\n",
              "Buy          0\n",
              "dtype: int64"
            ]
          },
          "metadata": {
            "tags": []
          },
          "execution_count": 166
        }
      ]
    },
    {
      "cell_type": "code",
      "metadata": {
        "colab": {
          "base_uri": "https://localhost:8080/"
        },
        "id": "s6Z6Z5Jti396",
        "outputId": "4f5a2e5b-1fb0-4cae-8c30-88b4e15124ec"
      },
      "source": [
        "data['Adj_Close'].value_counts()"
      ],
      "execution_count": null,
      "outputs": [
        {
          "output_type": "execute_result",
          "data": {
            "text/plain": [
              "13.264391    3\n",
              "15.300000    3\n",
              "12.973505    3\n",
              "12.857151    3\n",
              "11.577252    3\n",
              "            ..\n",
              "15.950000    1\n",
              "11.199101    1\n",
              "14.890000    1\n",
              "14.631554    1\n",
              "15.000000    1\n",
              "Name: Adj_Close, Length: 198, dtype: int64"
            ]
          },
          "metadata": {
            "tags": []
          },
          "execution_count": 167
        }
      ]
    },
    {
      "cell_type": "code",
      "metadata": {
        "colab": {
          "base_uri": "https://localhost:8080/",
          "height": 469
        },
        "id": "457pPSXhkSAp",
        "outputId": "eecfeff0-84f6-4c98-e304-e22140d60d61"
      },
      "source": [
        "data['Adj_Close'].plot(figsize=(15,10))"
      ],
      "execution_count": null,
      "outputs": [
        {
          "output_type": "execute_result",
          "data": {
            "text/plain": [
              "<matplotlib.axes._subplots.AxesSubplot at 0x7f294abd4890>"
            ]
          },
          "metadata": {
            "tags": []
          },
          "execution_count": 69
        },
        {
          "output_type": "display_data",
          "data": {
            "image/png": "[encoded data removed]",
            "text/plain": [
              "<Figure size 1080x720 with 1 Axes>"
            ]
          },
          "metadata": {
            "tags": [],
            "needs_background": "light"
          }
        }
      ]
    },
    {
      "cell_type": "code",
      "metadata": {
        "colab": {
          "base_uri": "https://localhost:8080/",
          "height": 265
        },
        "id": "OGDiT3yuk3Yi",
        "outputId": "1364764a-10ed-4a9f-a52d-6278bf7f4417"
      },
      "source": [
        "#Media Movél\n",
        "data['Adj_Close'].plot(figsize=(18,6), label='AMBEV')\n",
        "data['Adj_Close'].rolling(10).mean().plot(label='10 dias')\n",
        "data['Adj_Close'].rolling(50).mean().plot(label='50 dias')"
      ],
      "execution_count": null,
      "outputs": [
        {
          "output_type": "execute_result",
          "data": {
            "text/plain": [
              "<matplotlib.axes._subplots.AxesSubplot at 0x7f294afbffd0>"
            ]
          },
          "metadata": {
            "tags": []
          },
          "execution_count": 70
        },
        {
          "output_type": "display_data",
          "data": {
            "image/png": "[encoded data removed]",
            "text/plain": [
              "<Figure size 1296x432 with 1 Axes>"
            ]
          },
          "metadata": {
            "tags": [],
            "needs_background": "light"
          }
        }
      ]
    },
    {
      "cell_type": "code",
      "metadata": {
        "id": "U7yhHEAzkSMj"
      },
      "source": [
        "# Percetual de Retorno\n",
        "\n",
        "data['Return'] = data['Adj_Close'].pct_change()"
      ],
      "execution_count": null,
      "outputs": []
    },
    {
      "cell_type": "code",
      "metadata": {
        "colab": {
          "base_uri": "https://localhost:8080/",
          "height": 225
        },
        "id": "OLKbQgPBndiG",
        "outputId": "59da3c67-53ac-4982-bd6a-b774c784baa8"
      },
      "source": [
        "data.head()"
      ],
      "execution_count": null,
      "outputs": [
        {
          "output_type": "execute_result",
          "data": {
            "text/html": [
              "<div>\n",
              "<style scoped>\n",
              "    .dataframe tbody tr th:only-of-type {\n",
              "        vertical-align: middle;\n",
              "    }\n",
              "\n",
              "    .dataframe tbody tr th {\n",
              "        vertical-align: top;\n",
              "    }\n",
              "\n",
              "    .dataframe thead th {\n",
              "        text-align: right;\n",
              "    }\n",
              "</style>\n",
              "<table border=\"1\" class=\"dataframe\">\n",
              "  <thead>\n",
              "    <tr style=\"text-align: right;\">\n",
              "      <th></th>\n",
              "      <th>Open</th>\n",
              "      <th>High</th>\n",
              "      <th>Low</th>\n",
              "      <th>Close</th>\n",
              "      <th>Adj_Close</th>\n",
              "      <th>Volume</th>\n",
              "      <th>Return</th>\n",
              "    </tr>\n",
              "    <tr>\n",
              "      <th>Date</th>\n",
              "      <th></th>\n",
              "      <th></th>\n",
              "      <th></th>\n",
              "      <th></th>\n",
              "      <th></th>\n",
              "      <th></th>\n",
              "      <th></th>\n",
              "    </tr>\n",
              "  </thead>\n",
              "  <tbody>\n",
              "    <tr>\n",
              "      <th>2020-04-20</th>\n",
              "      <td>11.40</td>\n",
              "      <td>11.85</td>\n",
              "      <td>11.29</td>\n",
              "      <td>11.61</td>\n",
              "      <td>11.257279</td>\n",
              "      <td>22065800.0</td>\n",
              "      <td>NaN</td>\n",
              "    </tr>\n",
              "    <tr>\n",
              "      <th>2020-04-22</th>\n",
              "      <td>11.65</td>\n",
              "      <td>11.79</td>\n",
              "      <td>11.51</td>\n",
              "      <td>11.62</td>\n",
              "      <td>11.266975</td>\n",
              "      <td>22788300.0</td>\n",
              "      <td>0.000861</td>\n",
              "    </tr>\n",
              "    <tr>\n",
              "      <th>2020-04-23</th>\n",
              "      <td>11.73</td>\n",
              "      <td>11.84</td>\n",
              "      <td>11.44</td>\n",
              "      <td>11.55</td>\n",
              "      <td>11.199101</td>\n",
              "      <td>23608700.0</td>\n",
              "      <td>-0.006024</td>\n",
              "    </tr>\n",
              "    <tr>\n",
              "      <th>2020-04-24</th>\n",
              "      <td>11.45</td>\n",
              "      <td>11.55</td>\n",
              "      <td>10.68</td>\n",
              "      <td>11.11</td>\n",
              "      <td>10.772470</td>\n",
              "      <td>50923200.0</td>\n",
              "      <td>-0.038095</td>\n",
              "    </tr>\n",
              "    <tr>\n",
              "      <th>2020-04-27</th>\n",
              "      <td>11.35</td>\n",
              "      <td>11.84</td>\n",
              "      <td>11.26</td>\n",
              "      <td>11.61</td>\n",
              "      <td>11.257279</td>\n",
              "      <td>26166300.0</td>\n",
              "      <td>0.045004</td>\n",
              "    </tr>\n",
              "  </tbody>\n",
              "</table>\n",
              "</div>"
            ],
            "text/plain": [
              "             Open   High    Low  Close  Adj_Close      Volume    Return\n",
              "Date                                                                   \n",
              "2020-04-20  11.40  11.85  11.29  11.61  11.257279  22065800.0       NaN\n",
              "2020-04-22  11.65  11.79  11.51  11.62  11.266975  22788300.0  0.000861\n",
              "2020-04-23  11.73  11.84  11.44  11.55  11.199101  23608700.0 -0.006024\n",
              "2020-04-24  11.45  11.55  10.68  11.11  10.772470  50923200.0 -0.038095\n",
              "2020-04-27  11.35  11.84  11.26  11.61  11.257279  26166300.0  0.045004"
            ]
          },
          "metadata": {
            "tags": []
          },
          "execution_count": 72
        }
      ]
    },
    {
      "cell_type": "code",
      "metadata": {
        "id": "aI2Eyc0onjpy"
      },
      "source": [
        "media_pct_retorno = data['Return'].mean() *100"
      ],
      "execution_count": null,
      "outputs": []
    },
    {
      "cell_type": "code",
      "metadata": {
        "colab": {
          "base_uri": "https://localhost:8080/"
        },
        "id": "xlqVXZvan2ZM",
        "outputId": "b260407c-952a-460b-b014-a33ff689b77d"
      },
      "source": [
        "print(f'Percentual Retorno Medio: {media_pct_retorno}')"
      ],
      "execution_count": null,
      "outputs": [
        {
          "output_type": "stream",
          "text": [
            "Percentual Retorno Medio: 0.1649032281692592\n"
          ],
          "name": "stdout"
        }
      ]
    },
    {
      "cell_type": "code",
      "metadata": {
        "colab": {
          "base_uri": "https://localhost:8080/"
        },
        "id": "vvqtDL3OoDUP",
        "outputId": "bca641e5-b3bb-40f2-c523-22c381eb9a51"
      },
      "source": [
        "print('Percetual retorno médio = {:.2f}%'.format(media_pct_retorno))"
      ],
      "execution_count": null,
      "outputs": [
        {
          "output_type": "stream",
          "text": [
            "Percetual retorno médio = 0.16%\n"
          ],
          "name": "stdout"
        }
      ]
    },
    {
      "cell_type": "code",
      "metadata": {
        "id": "qUfGTfVJobBz"
      },
      "source": [
        "# Desvio Padrão\n",
        "\n",
        "desvio_padrao_retorno = data.Return.std()"
      ],
      "execution_count": null,
      "outputs": []
    },
    {
      "cell_type": "code",
      "metadata": {
        "colab": {
          "base_uri": "https://localhost:8080/"
        },
        "id": "cfxlWSSlkSWG",
        "outputId": "e0e3b6b6-7799-48f2-9a4d-0e5b92548d17"
      },
      "source": [
        "print('Percetual retorno médio = {:.2f}'.format(desvio_padrao_retorno))"
      ],
      "execution_count": null,
      "outputs": [
        {
          "output_type": "stream",
          "text": [
            "Percetual retorno médio = 0.02\n"
          ],
          "name": "stdout"
        }
      ]
    },
    {
      "cell_type": "code",
      "metadata": {
        "colab": {
          "base_uri": "https://localhost:8080/",
          "height": 296
        },
        "id": "eWy3OCzgkOlu",
        "outputId": "e2fb33ce-bbbe-44c3-d9c7-d848b372c7bb"
      },
      "source": [
        "data['Return'].plot()"
      ],
      "execution_count": null,
      "outputs": [
        {
          "output_type": "execute_result",
          "data": {
            "text/plain": [
              "<matplotlib.axes._subplots.AxesSubplot at 0x7f294aac0990>"
            ]
          },
          "metadata": {
            "tags": []
          },
          "execution_count": 78
        },
        {
          "output_type": "display_data",
          "data": {
            "image/png": "[encoded data removed]",
            "text/plain": [
              "<Figure size 432x288 with 1 Axes>"
            ]
          },
          "metadata": {
            "tags": [],
            "needs_background": "light"
          }
        }
      ]
    },
    {
      "cell_type": "code",
      "metadata": {
        "id": "FIJ2Kw7hpVGs"
      },
      "source": [
        "data['Return'].fillna((data['Return'].mean()), inplace=True)"
      ],
      "execution_count": null,
      "outputs": []
    },
    {
      "cell_type": "code",
      "metadata": {
        "colab": {
          "base_uri": "https://localhost:8080/"
        },
        "id": "wiYZWJZmq5Tb",
        "outputId": "2d423332-bc0a-4a74-8791-1a023363353c"
      },
      "source": [
        "data.info()"
      ],
      "execution_count": null,
      "outputs": [
        {
          "output_type": "stream",
          "text": [
            "<class 'pandas.core.frame.DataFrame'>\n",
            "Index: 245 entries, 2020-04-20 to 2021-04-16\n",
            "Data columns (total 7 columns):\n",
            " #   Column     Non-Null Count  Dtype  \n",
            "---  ------     --------------  -----  \n",
            " 0   Open       244 non-null    float64\n",
            " 1   High       244 non-null    float64\n",
            " 2   Low        244 non-null    float64\n",
            " 3   Close      244 non-null    float64\n",
            " 4   Adj_Close  244 non-null    float64\n",
            " 5   Volume     244 non-null    float64\n",
            " 6   Return     245 non-null    float64\n",
            "dtypes: float64(7)\n",
            "memory usage: 15.3+ KB\n"
          ],
          "name": "stdout"
        }
      ]
    },
    {
      "cell_type": "code",
      "metadata": {
        "id": "04PPDs0BrAIX"
      },
      "source": [
        "media_adj_close = data['Adj_Close'].mean()"
      ],
      "execution_count": null,
      "outputs": []
    },
    {
      "cell_type": "code",
      "metadata": {
        "colab": {
          "base_uri": "https://localhost:8080/"
        },
        "id": "sI52-r_us152",
        "outputId": "d1d73ae9-d77c-44ab-95b8-cb479c2e17bc"
      },
      "source": [
        "media_adj_close"
      ],
      "execution_count": null,
      "outputs": [
        {
          "output_type": "execute_result",
          "data": {
            "text/plain": [
              "13.760465836065567"
            ]
          },
          "metadata": {
            "tags": []
          },
          "execution_count": 82
        }
      ]
    },
    {
      "cell_type": "code",
      "metadata": {
        "id": "8vcgh7sqpVWB"
      },
      "source": [
        "data.loc[data['Adj_Close'] <= media_adj_close, 'Buy'] = 1\n",
        "data.loc[data['Adj_Close'] > media_adj_close, 'Buy'] = 0"
      ],
      "execution_count": null,
      "outputs": []
    },
    {
      "cell_type": "code",
      "metadata": {
        "colab": {
          "base_uri": "https://localhost:8080/",
          "height": 225
        },
        "id": "5jv63-kTuwTs",
        "outputId": "10735353-82a7-4024-efba-f2178eb9135f"
      },
      "source": [
        "data.head()"
      ],
      "execution_count": null,
      "outputs": [
        {
          "output_type": "execute_result",
          "data": {
            "text/html": [
              "<div>\n",
              "<style scoped>\n",
              "    .dataframe tbody tr th:only-of-type {\n",
              "        vertical-align: middle;\n",
              "    }\n",
              "\n",
              "    .dataframe tbody tr th {\n",
              "        vertical-align: top;\n",
              "    }\n",
              "\n",
              "    .dataframe thead th {\n",
              "        text-align: right;\n",
              "    }\n",
              "</style>\n",
              "<table border=\"1\" class=\"dataframe\">\n",
              "  <thead>\n",
              "    <tr style=\"text-align: right;\">\n",
              "      <th></th>\n",
              "      <th>Open</th>\n",
              "      <th>High</th>\n",
              "      <th>Low</th>\n",
              "      <th>Close</th>\n",
              "      <th>Adj_Close</th>\n",
              "      <th>Volume</th>\n",
              "      <th>Return</th>\n",
              "      <th>Buy</th>\n",
              "    </tr>\n",
              "    <tr>\n",
              "      <th>Date</th>\n",
              "      <th></th>\n",
              "      <th></th>\n",
              "      <th></th>\n",
              "      <th></th>\n",
              "      <th></th>\n",
              "      <th></th>\n",
              "      <th></th>\n",
              "      <th></th>\n",
              "    </tr>\n",
              "  </thead>\n",
              "  <tbody>\n",
              "    <tr>\n",
              "      <th>2020-04-20</th>\n",
              "      <td>11.40</td>\n",
              "      <td>11.85</td>\n",
              "      <td>11.29</td>\n",
              "      <td>11.61</td>\n",
              "      <td>11.257279</td>\n",
              "      <td>22065800.0</td>\n",
              "      <td>0.001649</td>\n",
              "      <td>1.0</td>\n",
              "    </tr>\n",
              "    <tr>\n",
              "      <th>2020-04-22</th>\n",
              "      <td>11.65</td>\n",
              "      <td>11.79</td>\n",
              "      <td>11.51</td>\n",
              "      <td>11.62</td>\n",
              "      <td>11.266975</td>\n",
              "      <td>22788300.0</td>\n",
              "      <td>0.000861</td>\n",
              "      <td>1.0</td>\n",
              "    </tr>\n",
              "    <tr>\n",
              "      <th>2020-04-23</th>\n",
              "      <td>11.73</td>\n",
              "      <td>11.84</td>\n",
              "      <td>11.44</td>\n",
              "      <td>11.55</td>\n",
              "      <td>11.199101</td>\n",
              "      <td>23608700.0</td>\n",
              "      <td>-0.006024</td>\n",
              "      <td>1.0</td>\n",
              "    </tr>\n",
              "    <tr>\n",
              "      <th>2020-04-24</th>\n",
              "      <td>11.45</td>\n",
              "      <td>11.55</td>\n",
              "      <td>10.68</td>\n",
              "      <td>11.11</td>\n",
              "      <td>10.772470</td>\n",
              "      <td>50923200.0</td>\n",
              "      <td>-0.038095</td>\n",
              "      <td>1.0</td>\n",
              "    </tr>\n",
              "    <tr>\n",
              "      <th>2020-04-27</th>\n",
              "      <td>11.35</td>\n",
              "      <td>11.84</td>\n",
              "      <td>11.26</td>\n",
              "      <td>11.61</td>\n",
              "      <td>11.257279</td>\n",
              "      <td>26166300.0</td>\n",
              "      <td>0.045004</td>\n",
              "      <td>1.0</td>\n",
              "    </tr>\n",
              "  </tbody>\n",
              "</table>\n",
              "</div>"
            ],
            "text/plain": [
              "             Open   High    Low  Close  Adj_Close      Volume    Return  Buy\n",
              "Date                                                                        \n",
              "2020-04-20  11.40  11.85  11.29  11.61  11.257279  22065800.0  0.001649  1.0\n",
              "2020-04-22  11.65  11.79  11.51  11.62  11.266975  22788300.0  0.000861  1.0\n",
              "2020-04-23  11.73  11.84  11.44  11.55  11.199101  23608700.0 -0.006024  1.0\n",
              "2020-04-24  11.45  11.55  10.68  11.11  10.772470  50923200.0 -0.038095  1.0\n",
              "2020-04-27  11.35  11.84  11.26  11.61  11.257279  26166300.0  0.045004  1.0"
            ]
          },
          "metadata": {
            "tags": []
          },
          "execution_count": 84
        }
      ]
    },
    {
      "cell_type": "code",
      "metadata": {
        "colab": {
          "base_uri": "https://localhost:8080/",
          "height": 225
        },
        "id": "0gD_wTEXvFDf",
        "outputId": "3d5da768-f3dd-49eb-fc0d-5d8c9c0c60e2"
      },
      "source": [
        "data.tail()"
      ],
      "execution_count": null,
      "outputs": [
        {
          "output_type": "execute_result",
          "data": {
            "text/html": [
              "<div>\n",
              "<style scoped>\n",
              "    .dataframe tbody tr th:only-of-type {\n",
              "        vertical-align: middle;\n",
              "    }\n",
              "\n",
              "    .dataframe tbody tr th {\n",
              "        vertical-align: top;\n",
              "    }\n",
              "\n",
              "    .dataframe thead th {\n",
              "        text-align: right;\n",
              "    }\n",
              "</style>\n",
              "<table border=\"1\" class=\"dataframe\">\n",
              "  <thead>\n",
              "    <tr style=\"text-align: right;\">\n",
              "      <th></th>\n",
              "      <th>Open</th>\n",
              "      <th>High</th>\n",
              "      <th>Low</th>\n",
              "      <th>Close</th>\n",
              "      <th>Adj_Close</th>\n",
              "      <th>Volume</th>\n",
              "      <th>Return</th>\n",
              "      <th>Buy</th>\n",
              "    </tr>\n",
              "    <tr>\n",
              "      <th>Date</th>\n",
              "      <th></th>\n",
              "      <th></th>\n",
              "      <th></th>\n",
              "      <th></th>\n",
              "      <th></th>\n",
              "      <th></th>\n",
              "      <th></th>\n",
              "      <th></th>\n",
              "    </tr>\n",
              "  </thead>\n",
              "  <tbody>\n",
              "    <tr>\n",
              "      <th>2021-04-12</th>\n",
              "      <td>15.50</td>\n",
              "      <td>15.600000</td>\n",
              "      <td>15.36</td>\n",
              "      <td>15.51</td>\n",
              "      <td>15.51</td>\n",
              "      <td>11987600.0</td>\n",
              "      <td>0.009766</td>\n",
              "      <td>0.0</td>\n",
              "    </tr>\n",
              "    <tr>\n",
              "      <th>2021-04-13</th>\n",
              "      <td>15.50</td>\n",
              "      <td>15.740000</td>\n",
              "      <td>15.37</td>\n",
              "      <td>15.63</td>\n",
              "      <td>15.63</td>\n",
              "      <td>19448300.0</td>\n",
              "      <td>0.007737</td>\n",
              "      <td>0.0</td>\n",
              "    </tr>\n",
              "    <tr>\n",
              "      <th>2021-04-14</th>\n",
              "      <td>15.64</td>\n",
              "      <td>15.900000</td>\n",
              "      <td>15.62</td>\n",
              "      <td>15.81</td>\n",
              "      <td>15.81</td>\n",
              "      <td>21466700.0</td>\n",
              "      <td>0.011516</td>\n",
              "      <td>0.0</td>\n",
              "    </tr>\n",
              "    <tr>\n",
              "      <th>2021-04-15</th>\n",
              "      <td>15.79</td>\n",
              "      <td>16.030001</td>\n",
              "      <td>15.72</td>\n",
              "      <td>15.87</td>\n",
              "      <td>15.87</td>\n",
              "      <td>17705700.0</td>\n",
              "      <td>0.003795</td>\n",
              "      <td>0.0</td>\n",
              "    </tr>\n",
              "    <tr>\n",
              "      <th>2021-04-16</th>\n",
              "      <td>15.79</td>\n",
              "      <td>15.960000</td>\n",
              "      <td>15.72</td>\n",
              "      <td>15.80</td>\n",
              "      <td>15.80</td>\n",
              "      <td>13563400.0</td>\n",
              "      <td>-0.004411</td>\n",
              "      <td>0.0</td>\n",
              "    </tr>\n",
              "  </tbody>\n",
              "</table>\n",
              "</div>"
            ],
            "text/plain": [
              "             Open       High    Low  ...      Volume    Return  Buy\n",
              "Date                                 ...                           \n",
              "2021-04-12  15.50  15.600000  15.36  ...  11987600.0  0.009766  0.0\n",
              "2021-04-13  15.50  15.740000  15.37  ...  19448300.0  0.007737  0.0\n",
              "2021-04-14  15.64  15.900000  15.62  ...  21466700.0  0.011516  0.0\n",
              "2021-04-15  15.79  16.030001  15.72  ...  17705700.0  0.003795  0.0\n",
              "2021-04-16  15.79  15.960000  15.72  ...  13563400.0 -0.004411  0.0\n",
              "\n",
              "[5 rows x 8 columns]"
            ]
          },
          "metadata": {
            "tags": []
          },
          "execution_count": 85
        }
      ]
    },
    {
      "cell_type": "code",
      "metadata": {
        "colab": {
          "base_uri": "https://localhost:8080/"
        },
        "id": "VpLgU11-vJKe",
        "outputId": "c485617a-1960-416c-a446-43e59ea3e354"
      },
      "source": [
        "data['Buy'].value_counts()"
      ],
      "execution_count": null,
      "outputs": [
        {
          "output_type": "execute_result",
          "data": {
            "text/plain": [
              "0.0    123\n",
              "1.0    121\n",
              "Name: Buy, dtype: int64"
            ]
          },
          "metadata": {
            "tags": []
          },
          "execution_count": 86
        }
      ]
    },
    {
      "cell_type": "code",
      "metadata": {
        "colab": {
          "base_uri": "https://localhost:8080/",
          "height": 242
        },
        "id": "aF2hEaq5vpPp",
        "outputId": "7c74b94d-4c67-4659-bccb-a8c1d549afc0"
      },
      "source": [
        "plt.figure(figsize=(10,3))\n",
        "sns.countplot(y='Buy', data=data)"
      ],
      "execution_count": null,
      "outputs": [
        {
          "output_type": "execute_result",
          "data": {
            "text/plain": [
              "<matplotlib.axes._subplots.AxesSubplot at 0x7f294aa32cd0>"
            ]
          },
          "metadata": {
            "tags": []
          },
          "execution_count": 87
        },
        {
          "output_type": "display_data",
          "data": {
            "image/png": "[encoded data removed]",
            "text/plain": [
              "<Figure size 720x216 with 1 Axes>"
            ]
          },
          "metadata": {
            "tags": [],
            "needs_background": "light"
          }
        }
      ]
    },
    {
      "cell_type": "code",
      "metadata": {
        "id": "EgcCcLfdwY5l"
      },
      "source": [
        "X_train = pd.DataFrame()\n",
        "y_train = pd.DataFrame()"
      ],
      "execution_count": null,
      "outputs": []
    },
    {
      "cell_type": "code",
      "metadata": {
        "id": "EX84j1IGwR-I"
      },
      "source": [
        "X_train['High'] = data['High']"
      ],
      "execution_count": null,
      "outputs": []
    },
    {
      "cell_type": "code",
      "metadata": {
        "colab": {
          "base_uri": "https://localhost:8080/",
          "height": 225
        },
        "id": "2gNtaRKGyQEy",
        "outputId": "a4c52c7a-f022-454a-e740-302745b2d060"
      },
      "source": [
        "X_train.head()"
      ],
      "execution_count": null,
      "outputs": [
        {
          "output_type": "execute_result",
          "data": {
            "text/html": [
              "<div>\n",
              "<style scoped>\n",
              "    .dataframe tbody tr th:only-of-type {\n",
              "        vertical-align: middle;\n",
              "    }\n",
              "\n",
              "    .dataframe tbody tr th {\n",
              "        vertical-align: top;\n",
              "    }\n",
              "\n",
              "    .dataframe thead th {\n",
              "        text-align: right;\n",
              "    }\n",
              "</style>\n",
              "<table border=\"1\" class=\"dataframe\">\n",
              "  <thead>\n",
              "    <tr style=\"text-align: right;\">\n",
              "      <th></th>\n",
              "      <th>High</th>\n",
              "    </tr>\n",
              "    <tr>\n",
              "      <th>Date</th>\n",
              "      <th></th>\n",
              "    </tr>\n",
              "  </thead>\n",
              "  <tbody>\n",
              "    <tr>\n",
              "      <th>2020-04-20</th>\n",
              "      <td>11.85</td>\n",
              "    </tr>\n",
              "    <tr>\n",
              "      <th>2020-04-22</th>\n",
              "      <td>11.79</td>\n",
              "    </tr>\n",
              "    <tr>\n",
              "      <th>2020-04-23</th>\n",
              "      <td>11.84</td>\n",
              "    </tr>\n",
              "    <tr>\n",
              "      <th>2020-04-24</th>\n",
              "      <td>11.55</td>\n",
              "    </tr>\n",
              "    <tr>\n",
              "      <th>2020-04-27</th>\n",
              "      <td>11.84</td>\n",
              "    </tr>\n",
              "  </tbody>\n",
              "</table>\n",
              "</div>"
            ],
            "text/plain": [
              "             High\n",
              "Date             \n",
              "2020-04-20  11.85\n",
              "2020-04-22  11.79\n",
              "2020-04-23  11.84\n",
              "2020-04-24  11.55\n",
              "2020-04-27  11.84"
            ]
          },
          "metadata": {
            "tags": []
          },
          "execution_count": 90
        }
      ]
    },
    {
      "cell_type": "code",
      "metadata": {
        "id": "oq4SCvrwyTPJ"
      },
      "source": [
        "X_train['Low'] = data['Low']\n",
        "X_train['Open'] = data['Open']\n",
        "X_train['Close'] = data['Close']\n",
        "X_train['Adj_Close'] = data['Adj_Close']\n",
        "X_train['Return'] = data['Return']"
      ],
      "execution_count": null,
      "outputs": []
    },
    {
      "cell_type": "code",
      "metadata": {
        "colab": {
          "base_uri": "https://localhost:8080/",
          "height": 195
        },
        "id": "KDkkPO340gLV",
        "outputId": "4a73559d-4082-4e95-c188-28c3da039feb"
      },
      "source": [
        "X_train.head()"
      ],
      "execution_count": null,
      "outputs": [
        {
          "output_type": "execute_result",
          "data": {
            "text/html": [
              "<div>\n",
              "<style scoped>\n",
              "    .dataframe tbody tr th:only-of-type {\n",
              "        vertical-align: middle;\n",
              "    }\n",
              "\n",
              "    .dataframe tbody tr th {\n",
              "        vertical-align: top;\n",
              "    }\n",
              "\n",
              "    .dataframe thead th {\n",
              "        text-align: right;\n",
              "    }\n",
              "</style>\n",
              "<table border=\"1\" class=\"dataframe\">\n",
              "  <thead>\n",
              "    <tr style=\"text-align: right;\">\n",
              "      <th></th>\n",
              "      <th>High</th>\n",
              "      <th>Low</th>\n",
              "      <th>Open</th>\n",
              "      <th>Close</th>\n",
              "      <th>Adj_Close</th>\n",
              "      <th>Return</th>\n",
              "    </tr>\n",
              "  </thead>\n",
              "  <tbody>\n",
              "    <tr>\n",
              "      <th>0</th>\n",
              "      <td>11.85</td>\n",
              "      <td>11.29</td>\n",
              "      <td>11.40</td>\n",
              "      <td>11.61</td>\n",
              "      <td>11.257279</td>\n",
              "      <td>0.001649</td>\n",
              "    </tr>\n",
              "    <tr>\n",
              "      <th>1</th>\n",
              "      <td>11.79</td>\n",
              "      <td>11.51</td>\n",
              "      <td>11.65</td>\n",
              "      <td>11.62</td>\n",
              "      <td>11.266975</td>\n",
              "      <td>0.000861</td>\n",
              "    </tr>\n",
              "    <tr>\n",
              "      <th>2</th>\n",
              "      <td>11.84</td>\n",
              "      <td>11.44</td>\n",
              "      <td>11.73</td>\n",
              "      <td>11.55</td>\n",
              "      <td>11.199101</td>\n",
              "      <td>-0.006024</td>\n",
              "    </tr>\n",
              "    <tr>\n",
              "      <th>3</th>\n",
              "      <td>11.55</td>\n",
              "      <td>10.68</td>\n",
              "      <td>11.45</td>\n",
              "      <td>11.11</td>\n",
              "      <td>10.772470</td>\n",
              "      <td>-0.038095</td>\n",
              "    </tr>\n",
              "    <tr>\n",
              "      <th>4</th>\n",
              "      <td>11.84</td>\n",
              "      <td>11.26</td>\n",
              "      <td>11.35</td>\n",
              "      <td>11.61</td>\n",
              "      <td>11.257279</td>\n",
              "      <td>0.045004</td>\n",
              "    </tr>\n",
              "  </tbody>\n",
              "</table>\n",
              "</div>"
            ],
            "text/plain": [
              "    High    Low   Open  Close  Adj_Close    Return\n",
              "0  11.85  11.29  11.40  11.61  11.257279  0.001649\n",
              "1  11.79  11.51  11.65  11.62  11.266975  0.000861\n",
              "2  11.84  11.44  11.73  11.55  11.199101 -0.006024\n",
              "3  11.55  10.68  11.45  11.11  10.772470 -0.038095\n",
              "4  11.84  11.26  11.35  11.61  11.257279  0.045004"
            ]
          },
          "metadata": {
            "tags": []
          },
          "execution_count": 131
        }
      ]
    },
    {
      "cell_type": "code",
      "metadata": {
        "id": "BQEv-pWpBBQQ"
      },
      "source": [
        "X_train.reset_index(drop =True, inplace=True)\n",
        "y_train.reset_index(drop =True, inplace=True)"
      ],
      "execution_count": null,
      "outputs": []
    },
    {
      "cell_type": "code",
      "metadata": {
        "colab": {
          "base_uri": "https://localhost:8080/",
          "height": 195
        },
        "id": "9UUd_cdx0l5Z",
        "outputId": "e036af51-28c5-45e3-f8b3-2615ceae51df"
      },
      "source": [
        "y_train['Buy'] = data['Buy']\n",
        "y_train.head()"
      ],
      "execution_count": null,
      "outputs": [
        {
          "output_type": "execute_result",
          "data": {
            "text/html": [
              "<div>\n",
              "<style scoped>\n",
              "    .dataframe tbody tr th:only-of-type {\n",
              "        vertical-align: middle;\n",
              "    }\n",
              "\n",
              "    .dataframe tbody tr th {\n",
              "        vertical-align: top;\n",
              "    }\n",
              "\n",
              "    .dataframe thead th {\n",
              "        text-align: right;\n",
              "    }\n",
              "</style>\n",
              "<table border=\"1\" class=\"dataframe\">\n",
              "  <thead>\n",
              "    <tr style=\"text-align: right;\">\n",
              "      <th></th>\n",
              "      <th>Buy</th>\n",
              "    </tr>\n",
              "  </thead>\n",
              "  <tbody>\n",
              "    <tr>\n",
              "      <th>0</th>\n",
              "      <td>NaN</td>\n",
              "    </tr>\n",
              "    <tr>\n",
              "      <th>1</th>\n",
              "      <td>NaN</td>\n",
              "    </tr>\n",
              "    <tr>\n",
              "      <th>2</th>\n",
              "      <td>NaN</td>\n",
              "    </tr>\n",
              "    <tr>\n",
              "      <th>3</th>\n",
              "      <td>NaN</td>\n",
              "    </tr>\n",
              "    <tr>\n",
              "      <th>4</th>\n",
              "      <td>NaN</td>\n",
              "    </tr>\n",
              "  </tbody>\n",
              "</table>\n",
              "</div>"
            ],
            "text/plain": [
              "   Buy\n",
              "0  NaN\n",
              "1  NaN\n",
              "2  NaN\n",
              "3  NaN\n",
              "4  NaN"
            ]
          },
          "metadata": {
            "tags": []
          },
          "execution_count": 161
        }
      ]
    },
    {
      "cell_type": "code",
      "metadata": {
        "id": "JBDiOyAH1AKc"
      },
      "source": [
        "def fit_ml(algoritmo, X_train, y_train, cv):\n",
        "  model = algoritmo.fit(X_train, y_train)\n",
        "  acc = round(model.score(X_train,y_train) *100, 2)\n",
        "\n",
        "  train_pred = model_selection.cross_val_predict(algoritmo, X_train, y_train, cv=cv, n_job= -1)\n",
        "\n",
        "  acc_cv = rount(metrics.accuracy_score(y_train, train_pred)*100, 2)\n",
        "\n",
        "  return train_pred, acc, acc_cv"
      ],
      "execution_count": null,
      "outputs": []
    },
    {
      "cell_type": "code",
      "metadata": {
        "colab": {
          "base_uri": "https://localhost:8080/",
          "height": 370
        },
        "id": "CGOpmRLyETN_",
        "outputId": "b187cd7f-5c83-42c7-9852-692176091223"
      },
      "source": [
        "start_time = time.time()\n",
        "train_pred_log, acc_log, acc_cv_log = fit_ml(LogisticRegression(), X_train, y_train, 10)\n",
        "\n",
        "log_time = (time.time() - start_time)\n",
        "print('Acurácia: %s' %acc_log)\n",
        "print('Acurácia Cruzada: %s' %acc_cv_log)\n",
        "print('Tempo: %s' %datetime.timedelta(seconds=log_time))"
      ],
      "execution_count": null,
      "outputs": [
        {
          "output_type": "error",
          "ename": "ValueError",
          "evalue": "ignored",
          "traceback": [
            "\u001b[0;31m---------------------------------------------------------------------------\u001b[0m",
            "\u001b[0;31mValueError\u001b[0m                                Traceback (most recent call last)",
            "\u001b[0;32m<ipython-input-190-8adaaafeaa26>\u001b[0m in \u001b[0;36m<module>\u001b[0;34m()\u001b[0m\n\u001b[1;32m      1\u001b[0m \u001b[0mstart_time\u001b[0m \u001b[0;34m=\u001b[0m \u001b[0mtime\u001b[0m\u001b[0;34m.\u001b[0m\u001b[0mtime\u001b[0m\u001b[0;34m(\u001b[0m\u001b[0;34m)\u001b[0m\u001b[0;34m\u001b[0m\u001b[0;34m\u001b[0m\u001b[0m\n\u001b[0;32m----> 2\u001b[0;31m \u001b[0mtrain_pred_log\u001b[0m\u001b[0;34m,\u001b[0m \u001b[0macc_log\u001b[0m\u001b[0;34m,\u001b[0m \u001b[0macc_cv_log\u001b[0m \u001b[0;34m=\u001b[0m \u001b[0mfit_ml\u001b[0m\u001b[0;34m(\u001b[0m\u001b[0mLogisticRegression\u001b[0m\u001b[0;34m(\u001b[0m\u001b[0;34m)\u001b[0m\u001b[0;34m,\u001b[0m \u001b[0mX_train\u001b[0m\u001b[0;34m,\u001b[0m \u001b[0my_train\u001b[0m\u001b[0;34m,\u001b[0m \u001b[0;36m10\u001b[0m\u001b[0;34m)\u001b[0m\u001b[0;34m\u001b[0m\u001b[0;34m\u001b[0m\u001b[0m\n\u001b[0m\u001b[1;32m      3\u001b[0m \u001b[0;34m\u001b[0m\u001b[0m\n\u001b[1;32m      4\u001b[0m \u001b[0mlog_time\u001b[0m \u001b[0;34m=\u001b[0m \u001b[0;34m(\u001b[0m\u001b[0mtime\u001b[0m\u001b[0;34m.\u001b[0m\u001b[0mtime\u001b[0m\u001b[0;34m(\u001b[0m\u001b[0;34m)\u001b[0m \u001b[0;34m-\u001b[0m \u001b[0mstart_time\u001b[0m\u001b[0;34m)\u001b[0m\u001b[0;34m\u001b[0m\u001b[0;34m\u001b[0m\u001b[0m\n\u001b[1;32m      5\u001b[0m \u001b[0mprint\u001b[0m\u001b[0;34m(\u001b[0m\u001b[0;34m'Acurácia: %s'\u001b[0m \u001b[0;34m%\u001b[0m\u001b[0macc_log\u001b[0m\u001b[0;34m)\u001b[0m\u001b[0;34m\u001b[0m\u001b[0;34m\u001b[0m\u001b[0m\n",
            "\u001b[0;32m<ipython-input-162-7971d607ab59>\u001b[0m in \u001b[0;36mfit_ml\u001b[0;34m(algoritmo, X_train, y_train, cv)\u001b[0m\n\u001b[1;32m      1\u001b[0m \u001b[0;32mdef\u001b[0m \u001b[0mfit_ml\u001b[0m\u001b[0;34m(\u001b[0m\u001b[0malgoritmo\u001b[0m\u001b[0;34m,\u001b[0m \u001b[0mX_train\u001b[0m\u001b[0;34m,\u001b[0m \u001b[0my_train\u001b[0m\u001b[0;34m,\u001b[0m \u001b[0mcv\u001b[0m\u001b[0;34m)\u001b[0m\u001b[0;34m:\u001b[0m\u001b[0;34m\u001b[0m\u001b[0;34m\u001b[0m\u001b[0m\n\u001b[0;32m----> 2\u001b[0;31m   \u001b[0mmodel\u001b[0m \u001b[0;34m=\u001b[0m \u001b[0malgoritmo\u001b[0m\u001b[0;34m.\u001b[0m\u001b[0mfit\u001b[0m\u001b[0;34m(\u001b[0m\u001b[0mX_train\u001b[0m\u001b[0;34m,\u001b[0m \u001b[0my_train\u001b[0m\u001b[0;34m)\u001b[0m\u001b[0;34m\u001b[0m\u001b[0;34m\u001b[0m\u001b[0m\n\u001b[0m\u001b[1;32m      3\u001b[0m   \u001b[0macc\u001b[0m \u001b[0;34m=\u001b[0m \u001b[0mround\u001b[0m\u001b[0;34m(\u001b[0m\u001b[0mmodel\u001b[0m\u001b[0;34m.\u001b[0m\u001b[0mscore\u001b[0m\u001b[0;34m(\u001b[0m\u001b[0mX_train\u001b[0m\u001b[0;34m,\u001b[0m\u001b[0my_train\u001b[0m\u001b[0;34m)\u001b[0m \u001b[0;34m*\u001b[0m\u001b[0;36m100\u001b[0m\u001b[0;34m,\u001b[0m \u001b[0;36m2\u001b[0m\u001b[0;34m)\u001b[0m\u001b[0;34m\u001b[0m\u001b[0;34m\u001b[0m\u001b[0m\n\u001b[1;32m      4\u001b[0m \u001b[0;34m\u001b[0m\u001b[0m\n\u001b[1;32m      5\u001b[0m   \u001b[0mtrain_pred\u001b[0m \u001b[0;34m=\u001b[0m \u001b[0mmodel_selection\u001b[0m\u001b[0;34m.\u001b[0m\u001b[0mcross_val_predict\u001b[0m\u001b[0;34m(\u001b[0m\u001b[0malgoritmo\u001b[0m\u001b[0;34m,\u001b[0m \u001b[0mX_train\u001b[0m\u001b[0;34m,\u001b[0m \u001b[0my_train\u001b[0m\u001b[0;34m,\u001b[0m \u001b[0mcv\u001b[0m\u001b[0;34m=\u001b[0m\u001b[0mcv\u001b[0m\u001b[0;34m,\u001b[0m \u001b[0mn_job\u001b[0m\u001b[0;34m=\u001b[0m \u001b[0;34m-\u001b[0m\u001b[0;36m1\u001b[0m\u001b[0;34m)\u001b[0m\u001b[0;34m\u001b[0m\u001b[0;34m\u001b[0m\u001b[0m\n",
            "\u001b[0;32m/usr/local/lib/python3.7/dist-packages/sklearn/linear_model/_logistic.py\u001b[0m in \u001b[0;36mfit\u001b[0;34m(self, X, y, sample_weight)\u001b[0m\n\u001b[1;32m   1525\u001b[0m \u001b[0;34m\u001b[0m\u001b[0m\n\u001b[1;32m   1526\u001b[0m         X, y = check_X_y(X, y, accept_sparse='csr', dtype=_dtype, order=\"C\",\n\u001b[0;32m-> 1527\u001b[0;31m                          accept_large_sparse=solver != 'liblinear')\n\u001b[0m\u001b[1;32m   1528\u001b[0m         \u001b[0mcheck_classification_targets\u001b[0m\u001b[0;34m(\u001b[0m\u001b[0my\u001b[0m\u001b[0;34m)\u001b[0m\u001b[0;34m\u001b[0m\u001b[0;34m\u001b[0m\u001b[0m\n\u001b[1;32m   1529\u001b[0m         \u001b[0mself\u001b[0m\u001b[0;34m.\u001b[0m\u001b[0mclasses_\u001b[0m \u001b[0;34m=\u001b[0m \u001b[0mnp\u001b[0m\u001b[0;34m.\u001b[0m\u001b[0munique\u001b[0m\u001b[0;34m(\u001b[0m\u001b[0my\u001b[0m\u001b[0;34m)\u001b[0m\u001b[0;34m\u001b[0m\u001b[0;34m\u001b[0m\u001b[0m\n",
            "\u001b[0;32m/usr/local/lib/python3.7/dist-packages/sklearn/utils/validation.py\u001b[0m in \u001b[0;36mcheck_X_y\u001b[0;34m(X, y, accept_sparse, accept_large_sparse, dtype, order, copy, force_all_finite, ensure_2d, allow_nd, multi_output, ensure_min_samples, ensure_min_features, y_numeric, warn_on_dtype, estimator)\u001b[0m\n\u001b[1;32m    753\u001b[0m                     \u001b[0mensure_min_features\u001b[0m\u001b[0;34m=\u001b[0m\u001b[0mensure_min_features\u001b[0m\u001b[0;34m,\u001b[0m\u001b[0;34m\u001b[0m\u001b[0;34m\u001b[0m\u001b[0m\n\u001b[1;32m    754\u001b[0m                     \u001b[0mwarn_on_dtype\u001b[0m\u001b[0;34m=\u001b[0m\u001b[0mwarn_on_dtype\u001b[0m\u001b[0;34m,\u001b[0m\u001b[0;34m\u001b[0m\u001b[0;34m\u001b[0m\u001b[0m\n\u001b[0;32m--> 755\u001b[0;31m                     estimator=estimator)\n\u001b[0m\u001b[1;32m    756\u001b[0m     \u001b[0;32mif\u001b[0m \u001b[0mmulti_output\u001b[0m\u001b[0;34m:\u001b[0m\u001b[0;34m\u001b[0m\u001b[0;34m\u001b[0m\u001b[0m\n\u001b[1;32m    757\u001b[0m         y = check_array(y, 'csr', force_all_finite=True, ensure_2d=False,\n",
            "\u001b[0;32m/usr/local/lib/python3.7/dist-packages/sklearn/utils/validation.py\u001b[0m in \u001b[0;36mcheck_array\u001b[0;34m(array, accept_sparse, accept_large_sparse, dtype, order, copy, force_all_finite, ensure_2d, allow_nd, ensure_min_samples, ensure_min_features, warn_on_dtype, estimator)\u001b[0m\n\u001b[1;32m    576\u001b[0m         \u001b[0;32mif\u001b[0m \u001b[0mforce_all_finite\u001b[0m\u001b[0;34m:\u001b[0m\u001b[0;34m\u001b[0m\u001b[0;34m\u001b[0m\u001b[0m\n\u001b[1;32m    577\u001b[0m             _assert_all_finite(array,\n\u001b[0;32m--> 578\u001b[0;31m                                allow_nan=force_all_finite == 'allow-nan')\n\u001b[0m\u001b[1;32m    579\u001b[0m \u001b[0;34m\u001b[0m\u001b[0m\n\u001b[1;32m    580\u001b[0m     \u001b[0;32mif\u001b[0m \u001b[0mensure_min_samples\u001b[0m \u001b[0;34m>\u001b[0m \u001b[0;36m0\u001b[0m\u001b[0;34m:\u001b[0m\u001b[0;34m\u001b[0m\u001b[0;34m\u001b[0m\u001b[0m\n",
            "\u001b[0;32m/usr/local/lib/python3.7/dist-packages/sklearn/utils/validation.py\u001b[0m in \u001b[0;36m_assert_all_finite\u001b[0;34m(X, allow_nan, msg_dtype)\u001b[0m\n\u001b[1;32m     58\u001b[0m                     \u001b[0mmsg_err\u001b[0m\u001b[0;34m.\u001b[0m\u001b[0mformat\u001b[0m\u001b[0;34m\u001b[0m\u001b[0;34m\u001b[0m\u001b[0m\n\u001b[1;32m     59\u001b[0m                     (type_err,\n\u001b[0;32m---> 60\u001b[0;31m                      msg_dtype if msg_dtype is not None else X.dtype)\n\u001b[0m\u001b[1;32m     61\u001b[0m             )\n\u001b[1;32m     62\u001b[0m     \u001b[0;31m# for object dtype data, we only check for NaNs (GH-13254)\u001b[0m\u001b[0;34m\u001b[0m\u001b[0;34m\u001b[0m\u001b[0;34m\u001b[0m\u001b[0m\n",
            "\u001b[0;31mValueError\u001b[0m: Input contains NaN, infinity or a value too large for dtype('float64')."
          ]
        }
      ]
    },
    {
      "cell_type": "code",
      "metadata": {
        "id": "noMYZ0_EMplP"
      },
      "source": [
        ""
      ],
      "execution_count": null,
      "outputs": []
    }
  ]
}